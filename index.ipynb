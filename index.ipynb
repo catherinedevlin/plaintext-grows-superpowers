{
 "cells": [
  {
   "cell_type": "markdown",
   "metadata": {
    "slideshow": {
     "slide_type": "slide"
    }
   },
   "source": [
    "Plaintext Grows Superpowers\n",
    "===========================\n",
    "\n",
    "Markdown, Jekyll, and Jupyter\n",
    "-----------------------------\n",
    "\n",
    "catherine.devlin@gmail.com\n",
    "\n",
    "IEEE-CS Dayton, Jul 21, 2016"
   ]
  },
  {
   "cell_type": "markdown",
   "metadata": {
    "slideshow": {
     "slide_type": "slide"
    }
   },
   "source": [
    "Bragslide\n",
    "---------\n",
    "\n",
    "- Python programmer, database administrator\n",
    "- [18F](https://18f.gsa.gov/)\n",
    "- First chair of [PyOhio](http://pyohio.org/)\n",
    "- [Dayton Dynamic Languages](http://dayton-dynamic.github.io/)\n",
    "- [this talk](https://github.com/catherinedevlin/plaintext-grows-superpowers/index.ipynb)"
   ]
  },
  {
   "cell_type": "markdown",
   "metadata": {
    "slideshow": {
     "slide_type": "slide"
    }
   },
   "source": [
    "Documentation is\n",
    "================\n",
    "\n",
    "- Crucial\n",
    "- Hated\n",
    "- Shoved off on somebody else\n"
   ]
  },
  {
   "cell_type": "markdown",
   "metadata": {
    "slideshow": {
     "slide_type": "slide"
    }
   },
   "source": [
    "Talk about software: **yes!**\n",
    "\n",
    "Write about software: **no!**"
   ]
  },
  {
   "cell_type": "markdown",
   "metadata": {
    "slideshow": {
     "slide_type": "slide"
    }
   },
   "source": [
    "Writing tools\n",
    "=============\n",
    "\n",
    "- Don't feel like writing code\n",
    "- Editors don't work\n",
    "- Tools don't work"
   ]
  },
  {
   "cell_type": "markdown",
   "metadata": {
    "slideshow": {
     "slide_type": "slide"
    }
   },
   "source": [
    "Plain text\n",
    "==========\n",
    "\n",
    "- Clean\n",
    "- Well-understood\n",
    "- Universal\n",
    "- Editors\n",
    "- Version control"
   ]
  },
  {
   "cell_type": "markdown",
   "metadata": {
    "slideshow": {
     "slide_type": "slide"
    }
   },
   "source": [
    "The good old days\n",
    "================="
   ]
  },
  {
   "cell_type": "code",
   "execution_count": 1,
   "metadata": {
    "collapsed": false,
    "slideshow": {
     "slide_type": "slide"
    }
   },
   "outputs": [
    {
     "name": "stdout",
     "output_type": "stream",
     "text": [
      "Groups in Dayton\r\n",
      "----------------\r\n",
      "\r\n",
      "- IEEE (right *now!*)\r\n",
      "- Dayton Dynamic Languages\r\n",
      "- Dayton Clean Coders\r\n",
      "- Dayton Web Developers\r\n",
      "- Dayton Linux User Group\r\n",
      "\r\n",
      "Events\r\n",
      "------\r\n",
      "\r\n",
      "- PyOhio\r\n"
     ]
    }
   ],
   "source": [
    "!cat dayton.md"
   ]
  },
  {
   "cell_type": "markdown",
   "metadata": {
    "slideshow": {
     "slide_type": "slide"
    }
   },
   "source": [
    "[Markdown](https://daringfireball.net/feeds/sponsors/)\n",
    "======================================================\n",
    "\n",
    "Plaintext + conventions + transformer \n",
    "\n",
    "    sudo apt-get install markdown"
   ]
  },
  {
   "cell_type": "code",
   "execution_count": 2,
   "metadata": {
    "collapsed": false,
    "slideshow": {
     "slide_type": "slide"
    }
   },
   "outputs": [
    {
     "name": "stdout",
     "output_type": "stream",
     "text": [
      "<h2>Groups in Dayton</h2>\r\n",
      "\r\n",
      "<ul>\r\n",
      "<li>IEEE (right <em>now!</em>)</li>\r\n",
      "<li>Dayton Dynamic Languages</li>\r\n",
      "<li>Dayton Clean Coders</li>\r\n",
      "<li>Dayton Web Developers</li>\r\n",
      "<li>Dayton Linux User Group</li>\r\n",
      "</ul>\r\n",
      "\r\n",
      "<h2>Events</h2>\r\n",
      "\r\n",
      "<ul>\r\n",
      "<li>PyOhio</li>\r\n",
      "</ul>\r\n"
     ]
    }
   ],
   "source": [
    "!markdown dayton.md"
   ]
  },
  {
   "cell_type": "code",
   "execution_count": 3,
   "metadata": {
    "collapsed": true,
    "slideshow": {
     "slide_type": "slide"
    }
   },
   "outputs": [],
   "source": [
    "!markdown dayton.md > dayton.html"
   ]
  },
  {
   "cell_type": "markdown",
   "metadata": {
    "slideshow": {
     "slide_type": "fragment"
    }
   },
   "source": [
    "[dayton.html](dayton.html)"
   ]
  },
  {
   "cell_type": "markdown",
   "metadata": {
    "slideshow": {
     "slide_type": "slide"
    }
   },
   "source": [
    "Supports\n",
    "========\n",
    "\n",
    "Blank lines\n",
    "separate paragraphs.\n",
    "\n",
    "You may use *italics* and **bold**."
   ]
  },
  {
   "cell_type": "markdown",
   "metadata": {
    "slideshow": {
     "slide_type": "subslide"
    }
   },
   "source": [
    "Headers\n",
    "=======\n",
    "\n",
    "and subheaders\n",
    "--------------\n",
    "\n",
    "hrules, like:\n",
    "\n",
    "---\n",
    "\n",
    "### sub-subheaders\n",
    "\n",
    "#### sub-subheaders, etc"
   ]
  },
  {
   "cell_type": "markdown",
   "metadata": {
    "slideshow": {
     "slide_type": "subslide"
    }
   },
   "source": [
    "Lists\n",
    "=====\n",
    "\n",
    "* Bullets\n",
    "  * what a violent name\n",
    "* nesting works\n",
    "\n",
    "\n",
    "    \n",
    "    \n",
    "1. numbered\n",
    "1. lists\n",
    "3. are auto-numbered "
   ]
  },
  {
   "cell_type": "markdown",
   "metadata": {
    "slideshow": {
     "slide_type": "subslide"
    }
   },
   "source": [
    "Code / literals\n",
    "---------------\n",
    "\n",
    "Do `this` if it's short \n",
    "\n",
    "\n",
    "    def my_function():\n",
    "        print('Hello')\n",
    "        for i in range(3):\n",
    "            print(i)\n"
   ]
  },
  {
   "cell_type": "markdown",
   "metadata": {
    "slideshow": {
     "slide_type": "subslide"
    }
   },
   "source": [
    "Links and photos\n",
    "----------------\n",
    "\n",
    "- [link](https://daringfireball.net/feeds/sponsors/)\n",
    "- ![cat photo](https://img.buzzfeed.com/buzzfeed-static/static/2014-04/enhanced/webdr04/10/17/enhanced-buzz-7745-1397164006-9.jpg?no-auto)"
   ]
  },
  {
   "cell_type": "markdown",
   "metadata": {
    "slideshow": {
     "slide_type": "slide"
    }
   },
   "source": [
    "Supported by\n",
    "------------\n",
    "\n",
    "- tools: `markdown`, `pandoc`, etc.\n",
    "- [78 Tools for Writing and Previewing Markdown](http://mashable.com/2013/06/24/markdown-tools/#HyYMKdDKiqqQ)\n",
    "- blog platforms (Wordpress, etc.)\n",
    "- Language libraries\n",
    "- GitHub, GitHub Pages, [prose.io](http://prose.io/)\n",
    "- Editors\n"
   ]
  },
  {
   "cell_type": "raw",
   "metadata": {
    "slideshow": {
     "slide_type": "slide"
    }
   },
   "source": [
    "Disadvantages\n",
    "=============\n",
    "\n",
    "- Dialect differences\n",
    "- No attributes (classes!)"
   ]
  },
  {
   "cell_type": "markdown",
   "metadata": {
    "slideshow": {
     "slide_type": "slide"
    }
   },
   "source": [
    "ReStructuredText\n",
    "================\n",
    "\n",
    "- Consistent dialect\n",
    "- Supports more (like attributes!)\n",
    "\n",
    "But\n",
    "\n",
    "- Less widespread\n",
    "- Less intuitive"
   ]
  },
  {
   "cell_type": "markdown",
   "metadata": {
    "slideshow": {
     "slide_type": "slide"
    }
   },
   "source": [
    "Jekyll\n",
    "======"
   ]
  },
  {
   "cell_type": "markdown",
   "metadata": {
    "slideshow": {
     "slide_type": "slide"
    }
   },
   "source": [
    "Other static site generators\n",
    "----------------------------\n",
    "\n",
    "- Hyde (Python)\n",
    "- Hugo (Go)"
   ]
  },
  {
   "cell_type": "markdown",
   "metadata": {
    "collapsed": true,
    "slideshow": {
     "slide_type": "slide"
    }
   },
   "source": [
    "Juypyter\n",
    "========\n",
    "\n",
    "- Web application for documents\n",
    "- Connect to running kernel \n",
    "- Markdown syntax\n",
    "- Visualizations"
   ]
  },
  {
   "cell_type": "markdown",
   "metadata": {
    "slideshow": {
     "slide_type": "slide"
    }
   },
   "source": [
    "Living document\n",
    "===============\n",
    "\n",
    "Here is a typical Python loop:"
   ]
  },
  {
   "cell_type": "code",
   "execution_count": 2,
   "metadata": {
    "collapsed": false,
    "scrolled": true,
    "slideshow": {
     "slide_type": "fragment"
    }
   },
   "outputs": [
    {
     "name": "stdout",
     "output_type": "stream",
     "text": [
      "Gimme a P!\n",
      "Gimme a Y!\n",
      "Gimme a T!\n",
      "Gimme a H!\n",
      "Gimme a O!\n",
      "Gimme a N!\n"
     ]
    }
   ],
   "source": [
    "for letter in 'Python':\n",
    "    print('Gimme a {}!'.format(letter.upper()))"
   ]
  },
  {
   "cell_type": "markdown",
   "metadata": {
    "slideshow": {
     "slide_type": "slide"
    }
   },
   "source": [
    "Executable textbook\n",
    "-------------------\n",
    "\n",
    "[Probabilistic Programming & Bayesian Methods for Hackers](http://nbviewer.jupyter.org/github/CamDavidsonPilon/Probabilistic-Programming-and-Bayesian-Methods-for-Hackers/blob/master/Chapter2_MorePyMC/Chapter2.ipynb)\n",
    "\n"
   ]
  },
  {
   "cell_type": "markdown",
   "metadata": {
    "slideshow": {
     "slide_type": "slide"
    }
   },
   "source": [
    "These slides\n",
    "------------\n",
    "\n",
    "[RISE](https://github.com/damianavila/RISE)"
   ]
  },
  {
   "cell_type": "markdown",
   "metadata": {
    "slideshow": {
     "slide_type": "slide"
    }
   },
   "source": [
    "Distributing notebooks\n",
    "----------------------\n",
    "\n",
    "- JSON files\n",
    "- [nbviewer](https://nbviewer.jupyter.org/urls/github.com/catherinedevlin/plaintext-grows-superpowers/index.ipynb)\n",
    "- GitHub\n",
    "- [wakari.io](https://wakari.io/)\n"
   ]
  },
  {
   "cell_type": "markdown",
   "metadata": {
    "slideshow": {
     "slide_type": "slide"
    }
   },
   "source": [
    "Conclusion\n",
    "==========\n",
    "\n",
    "- Fun\n",
    "- Gorgeous\n",
    "- Awesome\n",
    "- Programmy"
   ]
  },
  {
   "cell_type": "markdown",
   "metadata": {
    "slideshow": {
     "slide_type": "slide"
    }
   },
   "source": [
    "Those links again\n",
    "-----------------\n",
    "\n",
    "- [18F](https://18f.gsa.gov/)\n",
    "- First chair of [PyOhio](http://pyohio.org/)\n",
    "- [Dayton Dynamic Languages](http://dayton-dynamic.github.io/)\n",
    "- [this talk](https://github.com/catherinedevlin/plaintext-grows-superpowers/index.ipynb)"
   ]
  }
 ],
 "metadata": {
  "celltoolbar": "Slideshow",
  "kernelspec": {
   "display_name": "Python 3",
   "language": "python",
   "name": "python3"
  },
  "language_info": {
   "codemirror_mode": {
    "name": "ipython",
    "version": 3
   },
   "file_extension": ".py",
   "mimetype": "text/x-python",
   "name": "python",
   "nbconvert_exporter": "python",
   "pygments_lexer": "ipython3",
   "version": "3.5.2"
  }
 },
 "nbformat": 4,
 "nbformat_minor": 0
}
